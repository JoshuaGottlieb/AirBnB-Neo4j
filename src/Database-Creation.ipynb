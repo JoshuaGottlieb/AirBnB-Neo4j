{
 "cells": [
  {
   "cell_type": "markdown",
   "id": "56a3bb69",
   "metadata": {},
   "source": [
    "## Import Data and Connect to Database"
   ]
  },
  {
   "cell_type": "code",
   "execution_count": 1,
   "id": "169ea4c3",
   "metadata": {},
   "outputs": [],
   "source": [
    "import pandas as pd\n",
    "from neo4j import GraphDatabase\n",
    "from modules.database_population import create_nodes\n",
    "from modules.database_population import create_relationships_by_property, create_relationships_by_id\n",
    "from modules.database_population import create_index_by_node, create_index_by_relation"
   ]
  },
  {
   "cell_type": "code",
   "execution_count": 2,
   "id": "01ab7839",
   "metadata": {},
   "outputs": [],
   "source": [
    "# Establish connection to local neo4j database\n",
    "auth = ('neo4j', 'password')\n",
    "uri = 'neo4j://localhost:7687'\n",
    "database_name = 'neo4j'\n",
    "\n",
    "driver = GraphDatabase.driver(uri, auth = auth)"
   ]
  },
  {
   "cell_type": "code",
   "execution_count": 3,
   "id": "80c86fdb",
   "metadata": {},
   "outputs": [],
   "source": [
    "# Load in data files\n",
    "listings = pd.read_csv('../data/cleaned/listings.csv.xz', compression = 'xz')\n",
    "hosts = pd.read_csv('../data/cleaned/hosts.csv.xz', compression = 'xz')\n",
    "reviews = pd.read_csv('../data/cleaned/reviewers.csv.xz', compression = 'xz')\n",
    "\n",
    "# Create guests as a subset of reviews\n",
    "guests = reviews[['reviewer_id', 'reviewer_name']].drop_duplicates().reset_index(drop = True)"
   ]
  },
  {
   "cell_type": "markdown",
   "id": "604cadef",
   "metadata": {},
   "source": [
    "## Creating Nodes"
   ]
  },
  {
   "cell_type": "code",
   "execution_count": 4,
   "id": "2922f308",
   "metadata": {},
   "outputs": [],
   "source": [
    "# Create nodes for listings\n",
    "# create_nodes(driver, node_type = 'Listing', df = listings, database_name = database_name)"
   ]
  },
  {
   "cell_type": "code",
   "execution_count": 5,
   "id": "b18319d1",
   "metadata": {},
   "outputs": [],
   "source": [
    "# Create nodes for hosts\n",
    "# create_nodes(driver, node_type = 'Host', df = hosts, database_name = database_name)"
   ]
  },
  {
   "cell_type": "code",
   "execution_count": 6,
   "id": "29787db3",
   "metadata": {},
   "outputs": [],
   "source": [
    "# Create nodes for guests\n",
    "# create_nodes(driver, node_type = 'Guest', df = guests, database_name = database_name)"
   ]
  },
  {
   "cell_type": "markdown",
   "id": "01ab453f",
   "metadata": {},
   "source": [
    "## Creating Relationships"
   ]
  },
  {
   "cell_type": "code",
   "execution_count": 7,
   "id": "e4a96ec5",
   "metadata": {},
   "outputs": [],
   "source": [
    "# Pull out the unique guests\n",
    "unique_guests = guests.reviewer_id.unique().tolist()\n",
    "guest_stays = {id_: {'start_node': {'type': 'Guest', 'field': 'guest_id'}} for id_ in unique_guests}"
   ]
  },
  {
   "cell_type": "markdown",
   "id": "e46c63dc",
   "metadata": {},
   "source": [
    "Populate the guest STAYS at listing relationships (744,193 relationships, took about 14 hours to run)"
   ]
  },
  {
   "cell_type": "code",
   "execution_count": 8,
   "id": "24a2c223",
   "metadata": {
    "scrolled": true
   },
   "outputs": [],
   "source": [
    "# For each guest, find all of the listings they have stayed at, then create a relationship\n",
    "# from that guest to that listing with the date of stay as a relationship property\n",
    "\n",
    "# for guest in list(guest_stays.keys()):\n",
    "#     stays = reviews.loc[reviews.reviewer_id == guest][['listing_id', 'date']]\n",
    "#     locations = list(stays['listing_id'])\n",
    "#     dates = list(stays['date'])\n",
    "#     guest_stays[guest]['end_nodes'] = [{'type': 'Listing', 'field': 'listing_id',\n",
    "#                                         'key': locations[i],\n",
    "#                                         'props': {'date': dates[i]}}\n",
    "#                                         for i in range(len(stays.index))]\n",
    "# #     print(guest_stays[guest])\n",
    "#     create_relationships_by_id(driver, relationship_type = 'STAYS', id_ = guest,\n",
    "#                                relation_dict = guest_stays[guest], database_name = database_name)"
   ]
  },
  {
   "cell_type": "code",
   "execution_count": 9,
   "id": "7219ac9a",
   "metadata": {},
   "outputs": [],
   "source": [
    "# Create the relationships from Hosts to Listing\n",
    "# create_relationships_by_property(driver, relationship_type = 'OWNS',\n",
    "#                                  node_from = 'Host', node_to = 'Listing',\n",
    "#                                  on = 'host_id', database_name = database_name)"
   ]
  },
  {
   "cell_type": "markdown",
   "id": "41735d14",
   "metadata": {},
   "source": [
    "## Creating Indexes"
   ]
  },
  {
   "cell_type": "markdown",
   "id": "6ebd0c06",
   "metadata": {},
   "source": [
    "Create some indexes on common properties to speed up queries."
   ]
  },
  {
   "cell_type": "code",
   "execution_count": 10,
   "id": "54e21ce5",
   "metadata": {},
   "outputs": [],
   "source": [
    "# Create a number of indexes on listings as this is the subject of the bulk of queries\n",
    "listing_indexes = [('listing_host_index', 'host_id'), ('listing_id_index', 'listing_id'),\n",
    "                   ('listing_borough_index', 'borough'), ('listing_beds_index', 'beds'),\n",
    "                   ('listing_price_index', 'price'), ('listing_reviews_index', 'review_count'),\n",
    "                   ('listing_rating_index', 'review_rating'), ('listing_neighborhood_index', 'neighborhood')]\n",
    "\n",
    "# for name, key in listing_indexes:\n",
    "#     create_index_by_node(driver, index_name = name, node_type = 'Listing',\n",
    "#                          on = key, database_name = database_name)"
   ]
  },
  {
   "cell_type": "code",
   "execution_count": 11,
   "id": "72095d68",
   "metadata": {},
   "outputs": [],
   "source": [
    "# Create indexes on the ids for hosts and guests\n",
    "# create_index_by_node(driver, index_name = 'host_id_index', node_type = 'Host',\n",
    "#                      on = 'host_id', database_name = database_name)\n",
    "# create_index_by_node(driver, index_name = 'guest_id_index', node_type = 'Guest',\n",
    "#                      on = 'guest_id', database_name = database_name)"
   ]
  },
  {
   "cell_type": "code",
   "execution_count": 12,
   "id": "b0c4e957",
   "metadata": {},
   "outputs": [],
   "source": [
    "# Create index on date of guest stay for ease of searching and aggregation\n",
    "# create_index_by_relation(driver, index_name = 'date_stay_index', relation_type = 'STAYS',\n",
    "#                          on = 'date', database_name = database_name)"
   ]
  },
  {
   "cell_type": "code",
   "execution_count": 13,
   "id": "ef7f7879",
   "metadata": {},
   "outputs": [],
   "source": [
    "# Close connection\n",
    "driver.close()"
   ]
  }
 ],
 "metadata": {
  "kernelspec": {
   "display_name": "Python 3 (ipykernel)",
   "language": "python",
   "name": "python3"
  },
  "language_info": {
   "codemirror_mode": {
    "name": "ipython",
    "version": 3
   },
   "file_extension": ".py",
   "mimetype": "text/x-python",
   "name": "python",
   "nbconvert_exporter": "python",
   "pygments_lexer": "ipython3",
   "version": "3.8.10"
  }
 },
 "nbformat": 4,
 "nbformat_minor": 5
}
