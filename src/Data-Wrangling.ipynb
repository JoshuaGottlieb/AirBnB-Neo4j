{
 "cells": [
  {
   "cell_type": "code",
   "execution_count": 1,
   "id": "595b43f0",
   "metadata": {},
   "outputs": [],
   "source": [
    "import numpy as np\n",
    "import pandas as pd\n",
    "import re"
   ]
  },
  {
   "cell_type": "markdown",
   "id": "1f99e8aa",
   "metadata": {},
   "source": [
    "## Clean Listings Data"
   ]
  },
  {
   "cell_type": "code",
   "execution_count": 2,
   "id": "b3c9a006",
   "metadata": {},
   "outputs": [
    {
     "name": "stderr",
     "output_type": "stream",
     "text": [
      "/tmp/ipykernel_71182/1394727334.py:2: DtypeWarning: Columns (0,22,41) have mixed types. Specify dtype option on import or set low_memory=False.\n",
      "  listings_raw = pd.read_csv('../data/raw/listings.csv.xz', compression = 'xz')\n"
     ]
    }
   ],
   "source": [
    "# Loading in listing dats\n",
    "listings_raw = pd.read_csv('../data/raw/listings.csv.xz', compression = 'xz')\n",
    "\n",
    "# Drop most of the columns as they contain redundant or unnecessary information\n",
    "col_to_drop = ['scrape_id', 'last_scraped', 'source', 'picture_url',\n",
    "               'host_thumbnail_url', 'host_picture_url', 'latitude', 'longitude',\n",
    "               'neighbourhood', 'minimum_minimum_nights', 'maximum_minimum_nights',\n",
    "               'minimum_maximum_nights', 'maximum_maximum_nights', 'minimum_nights_avg_ntm',\n",
    "               'maximum_nights_avg_ntm', 'calendar_updated', 'availability_30', 'availability_60',\n",
    "               'availability_90', 'availability_365', 'calendar_last_scraped', 'name',\n",
    "               'number_of_reviews_ltm', 'number_of_reviews_l30d', 'first_review',\n",
    "               'last_review', 'license', 'instant_bookable', 'calculated_host_listings_count',\n",
    "               'calculated_host_listings_count_entire_homes', 'calculated_host_listings_count_private_rooms',\n",
    "               'calculated_host_listings_count_shared_rooms', 'reviews_per_month',\n",
    "               'host_has_profile_pic', 'host_identity_verified', 'host_listings_count',\n",
    "               'neighborhood_overview', 'host_about', 'host_response_time', 'host_response_rate',\n",
    "               'host_acceptance_rate', 'review_scores_accuracy', 'review_scores_cleanliness',\n",
    "               'review_scores_checkin', 'review_scores_communication', 'review_scores_location',\n",
    "               'review_scores_value', 'host_location', 'host_neighbourhood']\n",
    "listings_raw = listings_raw.drop(col_to_drop, axis = 1)"
   ]
  },
  {
   "cell_type": "code",
   "execution_count": 3,
   "id": "85521d8d",
   "metadata": {},
   "outputs": [
    {
     "data": {
      "text/plain": [
       "id                                  0\n",
       "listing_url                         1\n",
       "description                      1044\n",
       "host_id                             0\n",
       "host_url                            0\n",
       "host_name                           5\n",
       "host_since                          5\n",
       "host_is_superhost                 486\n",
       "host_total_listings_count           6\n",
       "host_verifications                  7\n",
       "neighbourhood_cleansed              1\n",
       "neighbourhood_group_cleansed        1\n",
       "property_type                       1\n",
       "room_type                           1\n",
       "accommodates                        1\n",
       "bathrooms                       14810\n",
       "bathrooms_text                     32\n",
       "bedrooms                         5984\n",
       "beds                            14952\n",
       "amenities                           1\n",
       "price                           14807\n",
       "minimum_nights                      1\n",
       "maximum_nights                      1\n",
       "has_availability                 5368\n",
       "number_of_reviews                   1\n",
       "review_scores_rating            11561\n",
       "dtype: int64"
      ]
     },
     "execution_count": 3,
     "metadata": {},
     "output_type": "execute_result"
    }
   ],
   "source": [
    "# Check for null values\n",
    "listings_raw.isnull().sum()"
   ]
  },
  {
   "cell_type": "code",
   "execution_count": 4,
   "id": "296e9073",
   "metadata": {},
   "outputs": [
    {
     "data": {
      "text/plain": [
       "array(['f', 't', nan, 'Private room in rental unit'], dtype=object)"
      ]
     },
     "execution_count": 4,
     "metadata": {},
     "output_type": "execute_result"
    }
   ],
   "source": [
    "# Assume hosts are not superhosts by default\n",
    "listings_raw.host_is_superhost.unique()"
   ]
  },
  {
   "cell_type": "code",
   "execution_count": 5,
   "id": "be8170f9",
   "metadata": {},
   "outputs": [
    {
     "data": {
      "text/plain": [
       "array(['t', nan, 'f'], dtype=object)"
      ]
     },
     "execution_count": 5,
     "metadata": {},
     "output_type": "execute_result"
    }
   ],
   "source": [
    "# Assume listing does not have availability by default\n",
    "listings_raw.has_availability.unique()"
   ]
  },
  {
   "cell_type": "code",
   "execution_count": 6,
   "id": "7a4c0b48",
   "metadata": {},
   "outputs": [
    {
     "data": {
      "text/plain": [
       "number_of_reviews\n",
       "0.0    11559\n",
       "1.0        1\n",
       "Name: count, dtype: int64"
      ]
     },
     "execution_count": 6,
     "metadata": {},
     "output_type": "execute_result"
    }
   ],
   "source": [
    "# All listings with null review scores have zero reviews\n",
    "listings_raw[listings_raw.review_scores_rating.isnull()]['number_of_reviews'].value_counts()"
   ]
  },
  {
   "cell_type": "code",
   "execution_count": 7,
   "id": "08b66313",
   "metadata": {},
   "outputs": [],
   "source": [
    "# Basic filling of missing values\n",
    "listings_raw.description = listings_raw.description.fillna('No description')\n",
    "listings_raw.host_is_superhost = listings_raw.host_is_superhost.fillna('f')\n",
    "listings_raw.has_availability = listings_raw.has_availability.fillna('f')\n",
    "listings_raw.review_scores_rating = listings_raw.review_scores_rating.fillna(0.0)"
   ]
  },
  {
   "cell_type": "code",
   "execution_count": 8,
   "id": "734afaef",
   "metadata": {},
   "outputs": [
    {
     "data": {
      "text/plain": [
       "array(['1 bath', '1 shared bath', '1 private bath', '2 baths',\n",
       "       '1.5 baths', '3 baths', '2 shared baths', '2.5 baths', nan,\n",
       "       '1.5 shared baths', '5 baths', '0 shared baths',\n",
       "       'Shared half-bath', '4.5 baths', '2.5 shared baths', 'Half-bath',\n",
       "       'Private half-bath', '0 baths', '3.5 baths', '3.5 shared baths',\n",
       "       '15.5 baths', '3 shared baths', '10.5 baths', '4 baths',\n",
       "       '4 shared baths', '4.5 shared baths', '5.5 baths', '6 baths',\n",
       "       '7 baths', '11.5 baths', '6 shared baths', '7.5 baths',\n",
       "       '7.5 shared baths', '5 shared baths', '6.5 baths'], dtype=object)"
      ]
     },
     "execution_count": 8,
     "metadata": {},
     "output_type": "execute_result"
    }
   ],
   "source": [
    "listings_raw.bathrooms_text.unique()"
   ]
  },
  {
   "cell_type": "code",
   "execution_count": 9,
   "id": "9abf0400",
   "metadata": {},
   "outputs": [],
   "source": [
    "# Extract the number of bathrooms from bathroom_text, where applicable\n",
    "listings_raw.bathrooms_text = listings_raw.bathrooms_text.fillna('0 baths')\n",
    "listings_raw.loc[listings_raw.bathrooms.isnull(), 'bathrooms'] = listings_raw.bathrooms_text.apply(\n",
    "                                            lambda x: re.search('^(\\d+)', x)[1]\n",
    "                                            if re.search('^(\\d+)', x) is not None\n",
    "                                            else np.nan)"
   ]
  },
  {
   "cell_type": "code",
   "execution_count": 10,
   "id": "39d7c506",
   "metadata": {},
   "outputs": [],
   "source": [
    "# Assume there is one bed per bedroom, on average\n",
    "listings_raw.bedrooms = listings_raw.bedrooms.fillna(0)\n",
    "listings_raw.loc[listings_raw.beds.isnull(), 'beds'] = listings_raw.bedrooms"
   ]
  },
  {
   "cell_type": "code",
   "execution_count": 11,
   "id": "5410e10e",
   "metadata": {},
   "outputs": [
    {
     "data": {
      "text/html": [
       "<div>\n",
       "<style scoped>\n",
       "    .dataframe tbody tr th:only-of-type {\n",
       "        vertical-align: middle;\n",
       "    }\n",
       "\n",
       "    .dataframe tbody tr th {\n",
       "        vertical-align: top;\n",
       "    }\n",
       "\n",
       "    .dataframe thead th {\n",
       "        text-align: right;\n",
       "    }\n",
       "</style>\n",
       "<table border=\"1\" class=\"dataframe\">\n",
       "  <thead>\n",
       "    <tr style=\"text-align: right;\">\n",
       "      <th></th>\n",
       "      <th>id</th>\n",
       "      <th>listing_url</th>\n",
       "      <th>description</th>\n",
       "      <th>host_id</th>\n",
       "      <th>host_url</th>\n",
       "      <th>host_name</th>\n",
       "      <th>host_since</th>\n",
       "      <th>host_is_superhost</th>\n",
       "      <th>host_total_listings_count</th>\n",
       "      <th>host_verifications</th>\n",
       "      <th>...</th>\n",
       "      <th>bathrooms_text</th>\n",
       "      <th>bedrooms</th>\n",
       "      <th>beds</th>\n",
       "      <th>amenities</th>\n",
       "      <th>price</th>\n",
       "      <th>minimum_nights</th>\n",
       "      <th>maximum_nights</th>\n",
       "      <th>has_availability</th>\n",
       "      <th>number_of_reviews</th>\n",
       "      <th>review_scores_rating</th>\n",
       "    </tr>\n",
       "  </thead>\n",
       "  <tbody>\n",
       "    <tr>\n",
       "      <th>4</th>\n",
       "      <td>7064</td>\n",
       "      <td>https://www.airbnb.com/rooms/7064</td>\n",
       "      <td>Large, private loft-like room in a spacious 2-...</td>\n",
       "      <td>17297.0</td>\n",
       "      <td>https://www.airbnb.com/users/show/17297</td>\n",
       "      <td>Joelle</td>\n",
       "      <td>2009-05-15</td>\n",
       "      <td>f</td>\n",
       "      <td>2.0</td>\n",
       "      <td>['email', 'phone', 'work_email']</td>\n",
       "      <td>...</td>\n",
       "      <td>1 shared bath</td>\n",
       "      <td>1.0</td>\n",
       "      <td>1.0</td>\n",
       "      <td>[\"Heating\", \"Washer\", \"Dishes and silverware\",...</td>\n",
       "      <td>NaN</td>\n",
       "      <td>30</td>\n",
       "      <td>45.0</td>\n",
       "      <td>t</td>\n",
       "      <td>13.0</td>\n",
       "      <td>4.91</td>\n",
       "    </tr>\n",
       "    <tr>\n",
       "      <th>10</th>\n",
       "      <td>11943</td>\n",
       "      <td>https://www.airbnb.com/rooms/11943</td>\n",
       "      <td>No description</td>\n",
       "      <td>45445.0</td>\n",
       "      <td>https://www.airbnb.com/users/show/45445</td>\n",
       "      <td>Harriet</td>\n",
       "      <td>2009-10-12</td>\n",
       "      <td>f</td>\n",
       "      <td>3.0</td>\n",
       "      <td>['phone']</td>\n",
       "      <td>...</td>\n",
       "      <td>1 bath</td>\n",
       "      <td>1.0</td>\n",
       "      <td>1.0</td>\n",
       "      <td>[\"Heating\", \"Washer\", \"Air conditioning\", \"Bre...</td>\n",
       "      <td>NaN</td>\n",
       "      <td>30</td>\n",
       "      <td>730.0</td>\n",
       "      <td>f</td>\n",
       "      <td>0.0</td>\n",
       "      <td>0.00</td>\n",
       "    </tr>\n",
       "    <tr>\n",
       "      <th>17</th>\n",
       "      <td>15396</td>\n",
       "      <td>https://www.airbnb.com/rooms/15396</td>\n",
       "      <td>Modern, spacious, bright and well designed apa...</td>\n",
       "      <td>60278.0</td>\n",
       "      <td>https://www.airbnb.com/users/show/60278</td>\n",
       "      <td>Petra</td>\n",
       "      <td>2009-12-05</td>\n",
       "      <td>t</td>\n",
       "      <td>3.0</td>\n",
       "      <td>['email', 'phone']</td>\n",
       "      <td>...</td>\n",
       "      <td>2 baths</td>\n",
       "      <td>2.0</td>\n",
       "      <td>2.0</td>\n",
       "      <td>[\"Fire extinguisher\", \"Smoke alarm\", \"Sound sy...</td>\n",
       "      <td>NaN</td>\n",
       "      <td>180</td>\n",
       "      <td>730.0</td>\n",
       "      <td>t</td>\n",
       "      <td>5.0</td>\n",
       "      <td>5.00</td>\n",
       "    </tr>\n",
       "    <tr>\n",
       "      <th>24</th>\n",
       "      <td>18961</td>\n",
       "      <td>https://www.airbnb.com/rooms/18961</td>\n",
       "      <td>This is a great fully furnished studio, lots o...</td>\n",
       "      <td>70857.0</td>\n",
       "      <td>https://www.airbnb.com/users/show/70857</td>\n",
       "      <td>Fabian</td>\n",
       "      <td>2010-01-15</td>\n",
       "      <td>f</td>\n",
       "      <td>2.0</td>\n",
       "      <td>['phone']</td>\n",
       "      <td>...</td>\n",
       "      <td>1 bath</td>\n",
       "      <td>1.0</td>\n",
       "      <td>1.0</td>\n",
       "      <td>[\"TV with standard cable\", \"Heating\", \"Essenti...</td>\n",
       "      <td>NaN</td>\n",
       "      <td>30</td>\n",
       "      <td>180.0</td>\n",
       "      <td>f</td>\n",
       "      <td>1.0</td>\n",
       "      <td>5.00</td>\n",
       "    </tr>\n",
       "    <tr>\n",
       "      <th>26</th>\n",
       "      <td>19282</td>\n",
       "      <td>https://www.airbnb.com/rooms/19282</td>\n",
       "      <td>A true GEM in Prospect Lefferts Gardens, welco...</td>\n",
       "      <td>73469.0</td>\n",
       "      <td>https://www.airbnb.com/users/show/73469</td>\n",
       "      <td>Djassi</td>\n",
       "      <td>2010-01-25</td>\n",
       "      <td>f</td>\n",
       "      <td>1.0</td>\n",
       "      <td>['email', 'phone']</td>\n",
       "      <td>...</td>\n",
       "      <td>2 baths</td>\n",
       "      <td>0.0</td>\n",
       "      <td>0.0</td>\n",
       "      <td>[\"Fire extinguisher\", \"Smoke alarm\", \"Stove\", ...</td>\n",
       "      <td>NaN</td>\n",
       "      <td>30</td>\n",
       "      <td>60.0</td>\n",
       "      <td>t</td>\n",
       "      <td>16.0</td>\n",
       "      <td>4.69</td>\n",
       "    </tr>\n",
       "  </tbody>\n",
       "</table>\n",
       "<p>5 rows × 26 columns</p>\n",
       "</div>"
      ],
      "text/plain": [
       "       id                         listing_url  \\\n",
       "4    7064   https://www.airbnb.com/rooms/7064   \n",
       "10  11943  https://www.airbnb.com/rooms/11943   \n",
       "17  15396  https://www.airbnb.com/rooms/15396   \n",
       "24  18961  https://www.airbnb.com/rooms/18961   \n",
       "26  19282  https://www.airbnb.com/rooms/19282   \n",
       "\n",
       "                                          description  host_id  \\\n",
       "4   Large, private loft-like room in a spacious 2-...  17297.0   \n",
       "10                                     No description  45445.0   \n",
       "17  Modern, spacious, bright and well designed apa...  60278.0   \n",
       "24  This is a great fully furnished studio, lots o...  70857.0   \n",
       "26  A true GEM in Prospect Lefferts Gardens, welco...  73469.0   \n",
       "\n",
       "                                   host_url host_name  host_since  \\\n",
       "4   https://www.airbnb.com/users/show/17297    Joelle  2009-05-15   \n",
       "10  https://www.airbnb.com/users/show/45445   Harriet  2009-10-12   \n",
       "17  https://www.airbnb.com/users/show/60278     Petra  2009-12-05   \n",
       "24  https://www.airbnb.com/users/show/70857    Fabian  2010-01-15   \n",
       "26  https://www.airbnb.com/users/show/73469    Djassi  2010-01-25   \n",
       "\n",
       "   host_is_superhost  host_total_listings_count  \\\n",
       "4                  f                        2.0   \n",
       "10                 f                        3.0   \n",
       "17                 t                        3.0   \n",
       "24                 f                        2.0   \n",
       "26                 f                        1.0   \n",
       "\n",
       "                  host_verifications  ... bathrooms_text bedrooms beds  \\\n",
       "4   ['email', 'phone', 'work_email']  ...  1 shared bath      1.0  1.0   \n",
       "10                         ['phone']  ...         1 bath      1.0  1.0   \n",
       "17                ['email', 'phone']  ...        2 baths      2.0  2.0   \n",
       "24                         ['phone']  ...         1 bath      1.0  1.0   \n",
       "26                ['email', 'phone']  ...        2 baths      0.0  0.0   \n",
       "\n",
       "                                            amenities  price minimum_nights  \\\n",
       "4   [\"Heating\", \"Washer\", \"Dishes and silverware\",...    NaN             30   \n",
       "10  [\"Heating\", \"Washer\", \"Air conditioning\", \"Bre...    NaN             30   \n",
       "17  [\"Fire extinguisher\", \"Smoke alarm\", \"Sound sy...    NaN            180   \n",
       "24  [\"TV with standard cable\", \"Heating\", \"Essenti...    NaN             30   \n",
       "26  [\"Fire extinguisher\", \"Smoke alarm\", \"Stove\", ...    NaN             30   \n",
       "\n",
       "   maximum_nights  has_availability  number_of_reviews review_scores_rating  \n",
       "4            45.0                 t               13.0                 4.91  \n",
       "10          730.0                 f                0.0                 0.00  \n",
       "17          730.0                 t                5.0                 5.00  \n",
       "24          180.0                 f                1.0                 5.00  \n",
       "26           60.0                 t               16.0                 4.69  \n",
       "\n",
       "[5 rows x 26 columns]"
      ]
     },
     "execution_count": 11,
     "metadata": {},
     "output_type": "execute_result"
    }
   ],
   "source": [
    "# There is no discernable way to recover price\n",
    "listings_raw[listings_raw.price.isnull()][:5]"
   ]
  },
  {
   "cell_type": "code",
   "execution_count": 12,
   "id": "b86477fb",
   "metadata": {},
   "outputs": [],
   "source": [
    "# Drop rows with missing values from these columns\n",
    "cols_drop_null = ['host_name', 'host_since', 'listing_url', 'host_verifications', 'price']\n",
    "for c in cols_drop_null:\n",
    "    listings_raw = listings_raw[~listings_raw[c].isnull()]"
   ]
  },
  {
   "cell_type": "code",
   "execution_count": 13,
   "id": "fd22b942",
   "metadata": {},
   "outputs": [],
   "source": [
    "# Drop bathroom_text column, since it is redundant with number of baths\n",
    "listings_raw = listings_raw.drop(['bathrooms_text'], axis = 1)"
   ]
  },
  {
   "cell_type": "code",
   "execution_count": 14,
   "id": "acb10e30",
   "metadata": {},
   "outputs": [
    {
     "data": {
      "text/plain": [
       "id                              0\n",
       "listing_url                     0\n",
       "description                     0\n",
       "host_id                         0\n",
       "host_url                        0\n",
       "host_name                       0\n",
       "host_since                      0\n",
       "host_is_superhost               0\n",
       "host_total_listings_count       0\n",
       "host_verifications              0\n",
       "neighbourhood_cleansed          0\n",
       "neighbourhood_group_cleansed    0\n",
       "property_type                   0\n",
       "room_type                       0\n",
       "accommodates                    0\n",
       "bathrooms                       0\n",
       "bedrooms                        0\n",
       "beds                            0\n",
       "amenities                       0\n",
       "price                           0\n",
       "minimum_nights                  0\n",
       "maximum_nights                  0\n",
       "has_availability                0\n",
       "number_of_reviews               0\n",
       "review_scores_rating            0\n",
       "dtype: int64"
      ]
     },
     "execution_count": 14,
     "metadata": {},
     "output_type": "execute_result"
    }
   ],
   "source": [
    "listings_raw.isnull().sum()"
   ]
  },
  {
   "cell_type": "code",
   "execution_count": 15,
   "id": "3b2fd4f2",
   "metadata": {},
   "outputs": [
    {
     "name": "stdout",
     "output_type": "stream",
     "text": [
      "<class 'pandas.core.frame.DataFrame'>\n",
      "Index: 22741 entries, 0 to 37548\n",
      "Data columns (total 25 columns):\n",
      " #   Column                        Non-Null Count  Dtype  \n",
      "---  ------                        --------------  -----  \n",
      " 0   id                            22741 non-null  object \n",
      " 1   listing_url                   22741 non-null  object \n",
      " 2   description                   22741 non-null  object \n",
      " 3   host_id                       22741 non-null  float64\n",
      " 4   host_url                      22741 non-null  object \n",
      " 5   host_name                     22741 non-null  object \n",
      " 6   host_since                    22741 non-null  object \n",
      " 7   host_is_superhost             22741 non-null  object \n",
      " 8   host_total_listings_count     22741 non-null  float64\n",
      " 9   host_verifications            22741 non-null  object \n",
      " 10  neighbourhood_cleansed        22741 non-null  object \n",
      " 11  neighbourhood_group_cleansed  22741 non-null  object \n",
      " 12  property_type                 22741 non-null  object \n",
      " 13  room_type                     22741 non-null  object \n",
      " 14  accommodates                  22741 non-null  float64\n",
      " 15  bathrooms                     22741 non-null  object \n",
      " 16  bedrooms                      22741 non-null  float64\n",
      " 17  beds                          22741 non-null  float64\n",
      " 18  amenities                     22741 non-null  object \n",
      " 19  price                         22741 non-null  object \n",
      " 20  minimum_nights                22741 non-null  object \n",
      " 21  maximum_nights                22741 non-null  float64\n",
      " 22  has_availability              22741 non-null  object \n",
      " 23  number_of_reviews             22741 non-null  float64\n",
      " 24  review_scores_rating          22741 non-null  float64\n",
      "dtypes: float64(8), object(17)\n",
      "memory usage: 4.5+ MB\n"
     ]
    }
   ],
   "source": [
    "listings_raw.info()"
   ]
  },
  {
   "cell_type": "code",
   "execution_count": 16,
   "id": "c2a47cbc",
   "metadata": {},
   "outputs": [],
   "source": [
    "# Fix data types\n",
    "int_col = ['id', 'host_id', 'host_total_listings_count',\n",
    "           'accommodates', 'bedrooms', 'beds', \n",
    "           'minimum_nights', 'maximum_nights', 'number_of_reviews']\n",
    "for c in int_col:\n",
    "    listings_raw[c] = listings_raw[c].astype(int)\n",
    "\n",
    "listings_raw.price = listings_raw.price.apply(lambda x: float(''.join(x[1:].split(','))))"
   ]
  },
  {
   "cell_type": "markdown",
   "id": "13682af9",
   "metadata": {},
   "source": [
    "## Clean Reviewers/Users Data"
   ]
  },
  {
   "cell_type": "code",
   "execution_count": 17,
   "id": "5a4f665a",
   "metadata": {},
   "outputs": [
    {
     "name": "stderr",
     "output_type": "stream",
     "text": [
      "/tmp/ipykernel_71182/1876831970.py:2: DtypeWarning: Columns (0) have mixed types. Specify dtype option on import or set low_memory=False.\n",
      "  reviews_raw = pd.read_csv('../data/raw/reviews.csv.xz', compression = 'xz')\n"
     ]
    }
   ],
   "source": [
    "# Load reviews data and subselect desired columns\n",
    "reviews_raw = pd.read_csv('../data/raw/reviews.csv.xz', compression = 'xz')\n",
    "reviews_raw = reviews_raw[['listing_id', 'date', 'reviewer_id', 'reviewer_name']]"
   ]
  },
  {
   "cell_type": "code",
   "execution_count": 18,
   "id": "39e8e5c5",
   "metadata": {},
   "outputs": [],
   "source": [
    "# Only include data with listings in the cleaned listing data so that appropriate connections can be made\n",
    "reviews_raw = reviews_raw.loc[reviews_raw.listing_id.isin(listings_raw.id.unique())]"
   ]
  },
  {
   "cell_type": "code",
   "execution_count": 19,
   "id": "0522536f",
   "metadata": {},
   "outputs": [
    {
     "data": {
      "text/plain": [
       "listing_id       0\n",
       "date             0\n",
       "reviewer_id      0\n",
       "reviewer_name    1\n",
       "dtype: int64"
      ]
     },
     "execution_count": 19,
     "metadata": {},
     "output_type": "execute_result"
    }
   ],
   "source": [
    "# Investigate null values\n",
    "reviews_raw.isnull().sum()"
   ]
  },
  {
   "cell_type": "code",
   "execution_count": 20,
   "id": "c6b75bf6",
   "metadata": {},
   "outputs": [],
   "source": [
    "# Remove null values\n",
    "reviews_raw = reviews_raw[~reviews_raw.isnull()]"
   ]
  },
  {
   "cell_type": "code",
   "execution_count": 21,
   "id": "a21267ec",
   "metadata": {},
   "outputs": [
    {
     "name": "stdout",
     "output_type": "stream",
     "text": [
      "<class 'pandas.core.frame.DataFrame'>\n",
      "Index: 471540 entries, 393223 to 965180\n",
      "Data columns (total 4 columns):\n",
      " #   Column         Non-Null Count   Dtype  \n",
      "---  ------         --------------   -----  \n",
      " 0   listing_id     471540 non-null  object \n",
      " 1   date           471540 non-null  object \n",
      " 2   reviewer_id    471540 non-null  float64\n",
      " 3   reviewer_name  471539 non-null  object \n",
      "dtypes: float64(1), object(3)\n",
      "memory usage: 18.0+ MB\n"
     ]
    }
   ],
   "source": [
    "reviews_raw.info()"
   ]
  },
  {
   "cell_type": "code",
   "execution_count": 22,
   "id": "cb9710cb",
   "metadata": {},
   "outputs": [],
   "source": [
    "# Fix data types\n",
    "int_col = ['listing_id', 'reviewer_id']\n",
    "for c in int_col:\n",
    "    reviews_raw[c] = reviews_raw[c].astype(int)"
   ]
  },
  {
   "cell_type": "code",
   "execution_count": 23,
   "id": "c7cc18f8",
   "metadata": {},
   "outputs": [],
   "source": [
    "# Write to csv\n",
    "reviews_raw.to_csv('../data/cleaned/reviewers.csv.xz', index = False)"
   ]
  },
  {
   "cell_type": "markdown",
   "id": "6f536570",
   "metadata": {},
   "source": [
    "## Splitting Listings Into Listings and Hosts \"Tables\""
   ]
  },
  {
   "cell_type": "code",
   "execution_count": 24,
   "id": "278f8e4c",
   "metadata": {},
   "outputs": [],
   "source": [
    "# Select columns relevant to listings, including host id for relationships\n",
    "listings_col = ['id', 'listing_url', 'description', 'host_id',\n",
    "                'neighbourhood_cleansed', 'neighbourhood_group_cleansed', 'property_type', 'room_type',\n",
    "                'accommodates', 'bathrooms', 'bedrooms', 'beds', 'amenities', 'price', \n",
    "                'minimum_nights', 'maximum_nights', 'has_availability', 'number_of_reviews',\n",
    "                'review_scores_rating']\n",
    "listings_cleaned = listings_raw.copy()[listings_col]\n",
    "\n",
    "# Write to csv\n",
    "listings_cleaned.to_csv('../data/cleaned/listings.csv.xz', index = False)"
   ]
  },
  {
   "cell_type": "code",
   "execution_count": 25,
   "id": "738f3b77",
   "metadata": {},
   "outputs": [],
   "source": [
    "# Select columns relevant to hosts\n",
    "hosts_col = ['host_id', 'host_url', 'host_name', 'host_since', 'host_is_superhost',\n",
    "             'host_total_listings_count', 'host_verifications']\n",
    "hosts_cleaned = listings_raw.copy()[hosts_col].drop_duplicates()\n",
    "\n",
    "# Write to csv\n",
    "hosts_cleaned.to_csv('../data/cleaned/hosts.csv.xz', index = False)"
   ]
  }
 ],
 "metadata": {
  "kernelspec": {
   "display_name": "Python 3 (ipykernel)",
   "language": "python",
   "name": "python3"
  },
  "language_info": {
   "codemirror_mode": {
    "name": "ipython",
    "version": 3
   },
   "file_extension": ".py",
   "mimetype": "text/x-python",
   "name": "python",
   "nbconvert_exporter": "python",
   "pygments_lexer": "ipython3",
   "version": "3.8.10"
  }
 },
 "nbformat": 4,
 "nbformat_minor": 5
}
